{
 "cells": [
  {
   "cell_type": "markdown",
   "id": "a0f6364d",
   "metadata": {},
   "source": [
    "##### 1.Sayılardan oluşan bir boyutlu array oluşturun. Arrayi oluştururken sayıların veri tipini integer olarak belirtelim.\n",
    "\n",
    "Oluşturulan arrayin boyut, eleman sayısı bilgilerine bakalım."
   ]
  },
  {
   "cell_type": "code",
   "execution_count": 26,
   "id": "c16c30a6",
   "metadata": {},
   "outputs": [
    {
     "name": "stdout",
     "output_type": "stream",
     "text": [
      "[4 1 3 5 6 6 4]\n",
      "eleman sayisi 7\n",
      "boyut 1\n"
     ]
    }
   ],
   "source": [
    "import numpy as np\n",
    "ar1=np.random.randint(1,8,7)\n",
    "print(ar1)\n",
    "print(\"eleman sayisi\",ar1.size)\n",
    "print(\"boyut\",ar1.ndim)"
   ]
  },
  {
   "cell_type": "markdown",
   "id": "1681f851",
   "metadata": {},
   "source": [
    "##### 2. Aşağıda verilen iki boyutlu ve üç boyutlu arrayi oluşturalım. Bu arraylerin boyut, eleman sayısı, satır, sütun bilgilerine ulaşalım. \n",
    "\n",
    "İki boyutlu array:\n",
    "[[1,2,6,7],\n",
    " [4,3,9,5]]\n",
    "\n",
    "Üç boyutlu array:\n",
    "[[[7,5,14],[21,8,11]],\n",
    " [[8,6,20],[14,3,9]]]\n",
    "\n",
    " "
   ]
  },
  {
   "cell_type": "code",
   "execution_count": 60,
   "id": "e3a138ed",
   "metadata": {},
   "outputs": [
    {
     "name": "stdout",
     "output_type": "stream",
     "text": [
      "[[1 2 6 7]\n",
      " [4 3 9 5]]\n",
      "boyut 2\n",
      "eleman sayisi 8\n",
      "(2, 4)\n",
      "[[[ 7  5 14]\n",
      "  [21  8 11]]\n",
      "\n",
      " [[ 8  6 20]\n",
      "  [14  3  9]]]\n",
      "boyut 3\n",
      "eleman sayisi 12\n",
      "(2, 2, 3)\n"
     ]
    }
   ],
   "source": [
    "arr2=np.array([[1,2,6,7],[4,3,9,5]])\n",
    "print(arr2)\n",
    "print(\"boyut\",arr2.ndim)\n",
    "print(\"eleman sayisi\",arr2.size)\n",
    "print(arr2.shape)\n",
    "arr3=np.array([[[7,5,14],[21,8,11]],[[8,6,20],[14,3,9]]])\n",
    "print(arr3)\n",
    "print(\"boyut\",arr3.ndim)\n",
    "print(\"eleman sayisi\",arr3.size)\n",
    "print(arr3.shape)"
   ]
  },
  {
   "cell_type": "markdown",
   "id": "b45192b0",
   "metadata": {},
   "source": [
    "##### 3. İstenilen elamanlara ulaşmak için arrayler üzerinde indexleme işlemi yapalım"
   ]
  },
  {
   "cell_type": "code",
   "execution_count": 47,
   "id": "563f9992",
   "metadata": {},
   "outputs": [
    {
     "name": "stdout",
     "output_type": "stream",
     "text": [
      "2\n"
     ]
    }
   ],
   "source": [
    "#İki boyutlu arraydaki 2 elemanına ulaşalım\n",
    "arr5=np.array([[1,2,6,7],[4,3,9,5]])\n",
    "print(arr5[0][1])\n",
    "\n"
   ]
  },
  {
   "cell_type": "code",
   "execution_count": 48,
   "id": "fd0a0be4",
   "metadata": {},
   "outputs": [
    {
     "name": "stdout",
     "output_type": "stream",
     "text": [
      "7\n"
     ]
    }
   ],
   "source": [
    "#İki boyutlu arraydaki 7 elemanına ulaşalım\n",
    "arr6=np.array([[1,2,6,7],[4,3,9,5]])\n",
    "print(arr6[0][3])\n"
   ]
  },
  {
   "cell_type": "code",
   "execution_count": 50,
   "id": "0c2b1884",
   "metadata": {},
   "outputs": [
    {
     "name": "stdout",
     "output_type": "stream",
     "text": [
      "9\n"
     ]
    }
   ],
   "source": [
    "#Üç boyutlu arraydaki 9 elemanına ulaşalım\n",
    "arr7=np.array([[[7,5,14],[21,8,11]],[[8,6,20],[14,3,9]]])\n",
    "print(arr7[1][1][2])\n"
   ]
  },
  {
   "cell_type": "code",
   "execution_count": 51,
   "id": "0dc07d00",
   "metadata": {},
   "outputs": [
    {
     "name": "stdout",
     "output_type": "stream",
     "text": [
      "5\n"
     ]
    }
   ],
   "source": [
    "#Üç boyutlu arraydaki 5 elemanına ulaşalım\n",
    "arr8=np.array([[[7,5,14],[21,8,11]],[[8,6,20],[14,3,9]]])\n",
    "print(arr8[0][0][1])\n"
   ]
  },
  {
   "cell_type": "markdown",
   "id": "12198bc9",
   "metadata": {},
   "source": [
    "##### 4. Arrayler üzerinde slicing işlemi uygulayalım."
   ]
  },
  {
   "cell_type": "code",
   "execution_count": 43,
   "id": "9d066ba1",
   "metadata": {},
   "outputs": [
    {
     "name": "stdout",
     "output_type": "stream",
     "text": [
      "[2 6]\n"
     ]
    }
   ],
   "source": [
    "#İki boyutlu arraydaki 2,6 elemanlarına ulaşalım\n",
    "arr9=np.array([[1,2,6,7],[4,3,9,5]])\n",
    "print(arr9[0][1:3])\n"
   ]
  },
  {
   "cell_type": "code",
   "execution_count": 44,
   "id": "e020f980",
   "metadata": {},
   "outputs": [
    {
     "name": "stdout",
     "output_type": "stream",
     "text": [
      "[3 9 5]\n"
     ]
    }
   ],
   "source": [
    "#İki boyutlu arraydaki 3,9,5 elemanlarına ulaşalım\n",
    "arr10=np.array([[1,2,6,7],[4,3,9,5]])\n",
    "print(arr9[1][1:])"
   ]
  },
  {
   "cell_type": "code",
   "execution_count": 45,
   "id": "891bed31",
   "metadata": {},
   "outputs": [
    {
     "name": "stdout",
     "output_type": "stream",
     "text": [
      "[21  8 11]\n"
     ]
    }
   ],
   "source": [
    "#Üç boyutlu arraydaki 21,8,11 elemanlarına ulaşalım\n",
    "arr11=np.array([[[7,5,14],[21,8,11]],[[8,6,20],[14,3,9]]])\n",
    "print(arr11[0][1][0:])"
   ]
  },
  {
   "cell_type": "code",
   "execution_count": 46,
   "id": "bcbf5f17",
   "metadata": {},
   "outputs": [
    {
     "name": "stdout",
     "output_type": "stream",
     "text": [
      "[ 6 20]\n"
     ]
    }
   ],
   "source": [
    "#Üç boyutlu arraydaki 6,20 elemanlarına ulaşalım\n",
    "arr12=np.array([[[7,5,14],[21,8,11]],[[8,6,20],[14,3,9]]])\n",
    "print(arr12[1][0][1:])"
   ]
  },
  {
   "cell_type": "markdown",
   "id": "66d2aab8",
   "metadata": {},
   "source": [
    "##### 5. 5 satır 3 sütunluk sıfırlardan ve birlerden oluşan iki tane iki boyutlu array oluşturalım. Bu arrayleri satır ve sütun bazında birleştirelim."
   ]
  },
  {
   "cell_type": "code",
   "execution_count": 38,
   "id": "99a6ed29",
   "metadata": {},
   "outputs": [
    {
     "name": "stdout",
     "output_type": "stream",
     "text": [
      "[[1 1 1]\n",
      " [1 1 1]\n",
      " [1 1 1]\n",
      " [1 1 1]\n",
      " [1 1 1]]\n",
      "[[0 0 0]\n",
      " [0 0 0]\n",
      " [0 0 0]\n",
      " [0 0 0]\n",
      " [0 0 0]]\n",
      "satir bazinda birlesme\n",
      " [[1 1 1]\n",
      " [1 1 1]\n",
      " [1 1 1]\n",
      " [1 1 1]\n",
      " [1 1 1]\n",
      " [0 0 0]\n",
      " [0 0 0]\n",
      " [0 0 0]\n",
      " [0 0 0]\n",
      " [0 0 0]]\n",
      "sutun bazli birlesme\n",
      " [[1 1 1 0 0 0]\n",
      " [1 1 1 0 0 0]\n",
      " [1 1 1 0 0 0]\n",
      " [1 1 1 0 0 0]\n",
      " [1 1 1 0 0 0]]\n"
     ]
    }
   ],
   "source": [
    "arr13=np.ones(15,dtype=int).reshape(5,3)\n",
    "print(arr13)\n",
    "arr14=np.zeros(15,dtype=int).reshape(5,3)\n",
    "print(arr14)\n",
    "print(\"satir bazinda birlesme\\n\",np.concatenate([arr13,arr14],axis=0))\n",
    "print(\"sutun bazli birlesme\\n\",np.concatenate([arr13,arr14],axis=-1))"
   ]
  }
 ],
 "metadata": {
  "kernelspec": {
   "display_name": "Python 3 (ipykernel)",
   "language": "python",
   "name": "python3"
  },
  "language_info": {
   "codemirror_mode": {
    "name": "ipython",
    "version": 3
   },
   "file_extension": ".py",
   "mimetype": "text/x-python",
   "name": "python",
   "nbconvert_exporter": "python",
   "pygments_lexer": "ipython3",
   "version": "3.12.0"
  }
 },
 "nbformat": 4,
 "nbformat_minor": 5
}
