{
 "cells": [
  {
   "cell_type": "markdown",
   "metadata": {},
   "source": [
    "#### Ödev 1\n",
    "Kullanıcıdan pi değeri ve yarıçap bilgisi alarak dairenin alanını hesaplayan bir fonksiyon oluşturulur."
   ]
  },
  {
   "cell_type": "code",
   "execution_count": 1,
   "metadata": {},
   "outputs": [
    {
     "name": "stdout",
     "output_type": "stream",
     "text": [
      "dairenin alan 27\n"
     ]
    }
   ],
   "source": [
    "def DaireAlan(pi,yaricap):\n",
    "    alan=pi*(yaricap**2)\n",
    "    return alan\n",
    "\n",
    "pi=int(input(\"pi değerini gir\"))\n",
    "yaricap=int(input(\"yari capi giriniz\"))\n",
    "print(\"dairenin alan\",DaireAlan(pi,yaricap))"
   ]
  },
  {
   "cell_type": "markdown",
   "metadata": {},
   "source": [
    "#### Ödev 2\n",
    "\n",
    "Faktöriyel adında fonksiyon oluşturulur. Döngü kullanarak parametre olarak girilen sayının faktöriyeli hesaplanır. Format metodunu kullanılarak ekrana yazdırılır."
   ]
  },
  {
   "cell_type": "code",
   "execution_count": 5,
   "metadata": {},
   "outputs": [
    {
     "name": "stdout",
     "output_type": "stream",
     "text": [
      "7 !=5040\n"
     ]
    }
   ],
   "source": [
    "def faktoriyel(sayi):\n",
    "    değer=1\n",
    "    for i in range(1,sayi+1):\n",
    "        değer*=i\n",
    "    return değer\n",
    "sayi=int(input(\"bir sayi giriniz\"))\n",
    "print(\"{} !={}\".format(sayi,faktoriyel(sayi)))\n"
   ]
  },
  {
   "cell_type": "markdown",
   "metadata": {},
   "source": [
    "#### Ödev 3\n",
    "Kişinin fonksiyona doğum yılını vererek kaç yaşında olduğunu hesaplayan bir fonksiyon oluşturun. "
   ]
  },
  {
   "cell_type": "code",
   "execution_count": 6,
   "metadata": {},
   "outputs": [
    {
     "name": "stdout",
     "output_type": "stream",
     "text": [
      "19  yaşindasiniz\n"
     ]
    }
   ],
   "source": [
    "def yaşBUL(dogum_yili):\n",
    "    yaş=2024-dogum_yili\n",
    "    return yaş\n",
    "dogum_yili=int(input(\"doğum yiliniz:\"))\n",
    "print(yaşBUL(dogum_yili),\" yaşindasiniz\")"
   ]
  },
  {
   "cell_type": "markdown",
   "metadata": {},
   "source": [
    "#### Ödev 4\n",
    "\n",
    "Doğum yılı ve isim bilgisi verilen fonksiyon kişinin emekli olup olmadığını söylesin.(Kişi 65 yaşında ise emekli olur.) Burada yaş hesabını yukarıdaki örnekteki fonksiyonu kullanarak yapsın.(Yani fonksiyon içinde fonksiyon kullanmanızı istiyorum :)) Kişi 65 yaşında ya da daha fazlaysa \"Emekli oldunuz\" yanıtını, 65 yaşından küçükse emekliliğine kaç yıl kaldığını da hesaplayarak \"(isim) emekliliğine (yıl) kaldı.\" yanıtını versin."
   ]
  },
  {
   "cell_type": "code",
   "execution_count": 9,
   "metadata": {},
   "outputs": [
    {
     "name": "stdout",
     "output_type": "stream",
     "text": [
      "zeliha emeki olmana  46 var\n"
     ]
    }
   ],
   "source": [
    "def emeklimisin(yaş,isim):\n",
    "    def yaşBUL(dogum_yili):\n",
    "      yaş=2024-dogum_yili\n",
    "      return yaş\n",
    "    if yaş>=65:\n",
    "       print(isim,\"emekli oldun\")\n",
    "    else:\n",
    "       print(isim,\"emeki olmana \",65-yaş,\"yıl var\")\n",
    "dogum_yili=int(input(\"doğum yılınız nedir\"))\n",
    "isim=input(\"isminizi giriniz\")\n",
    "emeklimisin(yaşBUL(dogum_yili),isim)\n"
   ]
  }
 ],
 "metadata": {
  "kernelspec": {
   "display_name": "Python 3",
   "language": "python",
   "name": "python3"
  },
  "language_info": {
   "codemirror_mode": {
    "name": "ipython",
    "version": 3
   },
   "file_extension": ".py",
   "mimetype": "text/x-python",
   "name": "python",
   "nbconvert_exporter": "python",
   "pygments_lexer": "ipython3",
   "version": "3.12.0"
  }
 },
 "nbformat": 4,
 "nbformat_minor": 2
}
