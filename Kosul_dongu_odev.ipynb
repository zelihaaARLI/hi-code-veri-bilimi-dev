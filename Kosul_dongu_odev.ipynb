{
 "cells": [
  {
   "cell_type": "markdown",
   "id": "409f0f4a",
   "metadata": {},
   "source": [
    "**Ödev-1:** Kullanıcıdan maaş bilgisini istenir ve bu bilgiye göre maaşından ne kadar vergi kesileceğini hesaplanır. Kullanıcının geliri;\n",
    "\n",
    "1. 10000 ve altındaysa maaşından %5 kesinti olur.\n",
    "2. 25000 ve altındaysa maaşından %10 kesinti olur.\n",
    "3. 45000 ve altındaysa maaşından %25 kesinti olur.\n",
    "4. Diğer koşullarda %30 kesinti olur.\n",
    "\n",
    "Bu durumlara göre kullanıcının yeni maaşı yazdırılır."
   ]
  },
  {
   "cell_type": "code",
   "execution_count": 1,
   "id": "5246e510",
   "metadata": {},
   "outputs": [
    {
     "name": "stdout",
     "output_type": "stream",
     "text": [
      "yeni maaşiniz: 22500.0\n"
     ]
    }
   ],
   "source": [
    "maaş=int(input(\"maaşiniz ne kadar\"))\n",
    "if maaş<=10000:\n",
    "    yenimaaş=maaş-maaş*5/100\n",
    "    print(\"yeni maaşiniz:\",yenimaaş)\n",
    "elif maaş<=25000:\n",
    "    yenimaaş=maaş-maaş*10/100\n",
    "    print(\"yeni maaşiniz:\",yenimaaş)\n",
    "elif maaş<=45000:\n",
    "    yenimaaş=maaş-maaş*25/100\n",
    "    print(\"yeni maaşiniz:\",yenimaaş)\n",
    "else:\n",
    "    yenimaaş=maaş-maaş*30/100\n",
    "    print(\"yeni maaşiniz:\",yenimaaş)"
   ]
  },
  {
   "cell_type": "markdown",
   "id": "f5fe8798",
   "metadata": {},
   "source": [
    "**Ödev-2:** Kullanıcıdan kullanıcı adı ve şifre oluşturmasını istenir. Şifrenin uzunluğu altı haneye ulaşmışsa hesabınız oluşturuldu mesajı alınır, altı haneden azsa altı haneli şifre oluşturması gerektiğinin mesajı alınır. *(Sadece koşul kullanılması yeterli.)*"
   ]
  },
  {
   "cell_type": "code",
   "execution_count": null,
   "id": "6acffe57",
   "metadata": {},
   "outputs": [],
   "source": [
    "kulaniciadi=input(\"bir kulanici adi giriniz\")\n",
    "şifre=input(\"bir şifre giriniz\")\n",
    "if len(şifre)>=6:\n",
    "    print(\"şifre oluşturuldu\")\n",
    "else:\n",
    "    print(\"lütfen 6 haneli bir şifre giriniz\")"
   ]
  },
  {
   "cell_type": "markdown",
   "id": "aaccf11a",
   "metadata": {},
   "source": [
    "**Ödev-3:** Bir önceki örnek geliştirilir.\n",
    "\n",
    "1. Kullanıcı girdiği şifre 5 ve 10 hane arasında olmak zorunda.\n",
    "2. Eğer bu koşula uyuyorsa \"Hesabınız oluşturuldu.\" mesajı alır.\n",
    "3. Koşulu sağlamıyorsa \"Lütfen girdiniz şifre 5 haneden az 10 haneden fazla olmasın!\" uyarısı alır.\n",
    "4. Bunu oluştururken kullanıcı istediğimiz şartlarda şifre oluşturana kadar sormaya devam eder"
   ]
  },
  {
   "cell_type": "code",
   "execution_count": 3,
   "id": "039e50dc",
   "metadata": {},
   "outputs": [
    {
     "name": "stdout",
     "output_type": "stream",
     "text": [
      " şifren oluşturuldu  zeliha\n"
     ]
    }
   ],
   "source": [
    "kulaniciadi=input(\"bir kulanici adi giriniz\")\n",
    "while True:\n",
    "    şifre=input(\"bir şifre giriniz\")\n",
    "    if 5<len(şifre)<10:\n",
    "        print(\" şifren oluşturuldu \",kulaniciadi)\n",
    "        break\n"
   ]
  },
  {
   "cell_type": "markdown",
   "id": "8ba81863",
   "metadata": {},
   "source": [
    "**Ödev-4:** Kullanıcıdan isim ve şifre isteyeceğiz ve şifre girişi için üç hak verilir.\n",
    "\n",
    "1. Eğer önceden tanımlı şifre ile kullanıcıdan gelen şifre aynıysa \"Giriş yapıldı.\" yazar.\n",
    "2. Şifre girişi yanlışsa \"Yanlış şifre girildi!\" uyarısı verilsin ve üç yanlış denemede program biter.\n",
    "3. Tercihe göre kalan hak bilgisi verilir."
   ]
  },
  {
   "cell_type": "code",
   "execution_count": 14,
   "id": "8f45ea0c",
   "metadata": {},
   "outputs": [
    {
     "name": "stdout",
     "output_type": "stream",
     "text": [
      "2 hakiniz kaldi\n",
      "1 hakiniz kaldi\n",
      "0 hakiniz kaldi\n",
      "malesef hakkiniz kalmadi\n"
     ]
    }
   ],
   "source": [
    "isim=input(\"isminiz nedir:\")\n",
    "hedefsifre=\"1234aaa\"\n",
    "hak=3\n",
    "while hak>0:\n",
    "    sifre=input(\"şifre giriniz\")\n",
    "    if sifre==hedefsifre:\n",
    "        print(hak,\" hakta sifreyi bilebildiniz\")\n",
    "        break\n",
    "    \n",
    "    else:\n",
    "          hak-=1\n",
    "          print(hak,\"hakiniz kaldi\")\n",
    "if hak==0:\n",
    "     print(\"malesef hakkiniz kalmadi\")          "
   ]
  }
 ],
 "metadata": {
  "kernelspec": {
   "display_name": "Python 3 (ipykernel)",
   "language": "python",
   "name": "python3"
  },
  "language_info": {
   "codemirror_mode": {
    "name": "ipython",
    "version": 3
   },
   "file_extension": ".py",
   "mimetype": "text/x-python",
   "name": "python",
   "nbconvert_exporter": "python",
   "pygments_lexer": "ipython3",
   "version": "3.12.0"
  }
 },
 "nbformat": 4,
 "nbformat_minor": 5
}
