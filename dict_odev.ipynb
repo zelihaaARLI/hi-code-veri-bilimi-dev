{
 "cells": [
  {
   "cell_type": "markdown",
   "metadata": {},
   "source": [
    "### Ödev 1\n",
    "\n",
    "Bir sözlük oluşturulur ve bu sözlükte öğrencilerin isimleri ve Matematik, Fizik, Kimya notları tutulur. Kullanıcıdan isim ve ders ismi(Matematik, Fizik, Kimya) istenir ve bu bilgilere göre çıktı verilir."
   ]
  },
  {
   "cell_type": "code",
   "execution_count": 3,
   "metadata": {},
   "outputs": [
    {
     "name": "stdout",
     "output_type": "stream",
     "text": [
      "kerem in kimya notu: 97\n"
     ]
    }
   ],
   "source": [
    "sozluk={\"ayşe\":{\"matamatik\":90,\"fizik\":30,\"kimya\":67},\n",
    "        \"kerem\":{\"matamatik\":48,\"fizik\":90,\"kimya\":97},\n",
    "        \"can\":{\"matamatik\":76,\"fizik\":54,\"kimya\":65}}\n",
    "isim=input(\"isim giriniz\")\n",
    "hangiders=input(\"hangi ders hakkında bilgi istiyorsun\")\n",
    "print(isim,\"in\",hangiders,\"notu:\",sozluk[isim][hangiders])"
   ]
  },
  {
   "cell_type": "markdown",
   "metadata": {},
   "source": [
    "### Ödev 2\n",
    "\n",
    "Sözlük üzerinde değerleri değiştirme, yeni değer ekleme, kullanıcıya ulaşmak istediği bilgileri sorma gibi uygulamalar yapın."
   ]
  },
  {
   "cell_type": "code",
   "execution_count": 5,
   "metadata": {},
   "outputs": [],
   "source": [
    "sozlukler={'ayşe yılmaz': {'Müşteri numarası': '479621',\n",
    "  'Şehir': 'İstanbul',\n",
    "  'Yaş': 36,\n",
    "  'Meslek': 'Öğretmen'},\n",
    " 'mine sönmez': {'Müşteri numarası': '851743',\n",
    "  'Şehir': 'Ankara',\n",
    "  'Yaş': 24,\n",
    "  'Meslek': 'Hemşire'},\n",
    " 'emir alpay': {'Müşteri numarası': '743266',\n",
    "  'Şehir': 'Bursa',\n",
    "  'Yaş': 27,\n",
    "  'Meslek': 'Mühendis'},\n",
    " 'sevim kara': {'Müşteri numarası': '154798',\n",
    "  'Şehir': 'İzmir',\n",
    "  'Yaş': 21,\n",
    "  'Meslek': 'Öğrenci'}}\n",
    "a=\"değişim\"\n",
    "b=\"yeni değer ekleme\"\n",
    "c=\"kulanicidan bilgiler isteme\"\n",
    "print(a=\"değişim\")\n",
    "print(b=\"yeni değer ekleme\")\n",
    "print(c=\"kulanicidan bilgiler isteme\")\n",
    "hangiişlem=input(\"giriniz\")\n"
   ]
  }
 ],
 "metadata": {
  "kernelspec": {
   "display_name": "Python 3",
   "language": "python",
   "name": "python3"
  },
  "language_info": {
   "codemirror_mode": {
    "name": "ipython",
    "version": 3
   },
   "file_extension": ".py",
   "mimetype": "text/x-python",
   "name": "python",
   "nbconvert_exporter": "python",
   "pygments_lexer": "ipython3",
   "version": "3.12.0"
  }
 },
 "nbformat": 4,
 "nbformat_minor": 2
}
